{
 "cells": [
  {
   "cell_type": "code",
   "execution_count": 67,
   "metadata": {},
   "outputs": [
    {
     "name": "stdout",
     "output_type": "stream",
     "text": [
      "['Alameda', 'Alpine', 'Anaheim', 'Anderson', 'Arroyo Grande', 'Atascadero', 'Auburn', 'Azusa', 'Bakersfield', 'Banning', 'Barstow', 'Bass Lake', 'Berkeley', 'Bill Stanley', 'Bishop', 'Blythe', 'Boulder Creek', 'Bridgeport', 'Calexico', 'California City', 'Calipatria', 'Camp Nelson', 'Carmel Valley', 'Chico', 'Chula Vista', 'Clearlake Oaks', 'Colfax', 'Colusa', 'Compton', 'Concord', 'Crescent City', 'Crestline', 'Crockett', 'Davis', 'Dirty Socks', 'El Cajon', 'El Centro', 'Elk Grove', 'Eureka', 'Felton', 'Fillmore', 'Folsom', 'Fontana', 'Fort Bragg', 'Fresno', 'Gasquet', 'Gilroy', 'Glendora', 'Goleta', 'Grass Valley', 'Gridley', 'Hesperia', 'Hollister', 'Hornbrook', 'Hume', 'Huron', 'Imperial', 'Indio', 'Inyo', 'Inyokern', 'Keeler', 'Kern', 'Kernville', 'King City', 'Klamath', 'La Habra', 'La Jolla Shores', 'La Mirada', 'Lake Elsinore', 'Lancaster', 'Laytonville', 'Lebec', 'Lee Vining', 'Lemoore', 'Lincoln', 'Livermore', 'Lompoc', 'Lone Pine', 'Long Beach', 'Los Angeles', 'Lucerne Valley', 'Madera', 'Mammoth Lakes', 'Mariposa', 'Martinez', 'Mecca', 'Merced', 'Milpitas', 'Miramonte', 'Mission Viejo', 'Modesto', 'Mojave', 'Napa', 'Nevada', 'Newhall', 'Nipomo', 'Oakland', 'Oceanside', 'Ojai', 'Olancha', 'Ontario', 'Orange', 'Orleans', 'Oxnard', 'Palm Springs', 'Palos Verdes Estates', 'Paso Robles', 'Perris', 'Phelan', 'Pico Rivera', 'Pleasanton', 'Plumas', 'Pollock Pines', 'Pomona', 'Porterville', 'Portola', 'Quincy', 'Red Bluff', 'Redlands', 'Redwood City', 'Reseda', 'Richmond', 'Rio Vista', 'Riverside', 'Roseville', 'Sacramento', 'Salinas', 'San Andreas', 'San Bernardino', 'San Diego', 'San Francisco', 'San Gabriel', 'San Jose', 'San Luis Obispo', 'San Pablo', 'San Rafael', 'Santa Barbara', 'Santa Cruz', 'Santa Maria', 'Santa Rosa', 'Sebastopol', 'Sequoia National Park', 'Simi Valley', 'Solano', 'South Lake Tahoe', 'Springville', 'Stanislaus', 'Stockton', 'Tahoe City', 'Temecula', 'Thousand Oaks', 'Three Rivers', 'Tracy', 'Tranquillity', 'Trona', 'Truckee', 'Tulare', 'Turlock', 'Twentynine Palms', 'Ukiah', 'Upland', 'Vacaville', 'Vallejo', 'Ventura', 'Victorville', 'Visalia', 'Weaverville', 'Westmorland', 'Westwood', 'Williams', 'Willits', 'Willows', 'Winchester', 'Woodland', 'Yosemite Valley', 'Yreka', 'Yuba City', 'Yucca Valley']\n",
      "<Response [200]>\n",
      "<Response [200]>\n",
      "<Response [200]>\n",
      "<Response [200]>\n",
      "<Response [200]>\n",
      "<Response [200]>\n",
      "<Response [200]>\n",
      "<Response [200]>\n",
      "<Response [200]>\n",
      "<Response [200]>\n",
      "<Response [200]>\n",
      "<Response [200]>\n",
      "<Response [200]>\n",
      "<Response [200]>\n",
      "14\n"
     ]
    }
   ],
   "source": [
    "import requests, json, time\n",
    "\n",
    "key = os.environ['AIR_KEY']\n",
    "base = {'key': key}\n",
    "\n",
    "city_names_url = \"http://api.airvisual.com/v2/cities\"\n",
    "params = {**base, 'country': 'USA', 'state': 'California'}\n",
    "city_names_response = requests.get(city_names_url, params=params)\n",
    "city_names = [data['city'] for data in city_names_response.json()['data']]\n",
    "print(city_names)\n",
    "city_names = ['Alameda', 'Berkeley', 'Concord', 'Gilroy', 'Livermore', 'Sacramento', \n",
    "              'Oakland', 'Napa', 'Santa Cruz', 'San Francisco', 'Richmond', 'San Jose', \n",
    "              'Redwood City', 'Vallejo', 'Stockton']\n",
    "city_data_url = \"http://api.airvisual.com/v2/city\"\n",
    "city_data = []\n",
    "\n",
    "def fetch_response(url, params):\n",
    "    while True:\n",
    "        response = requests.get(url, params=params)\n",
    "        try:\n",
    "            message = response.json()['data']['message']\n",
    "        except KeyError:\n",
    "            print(response)\n",
    "            return response\n",
    "        except JSONDecodeError:\n",
    "            print('json decode error')\n",
    "            print(response)\n",
    "            print(response.content)\n",
    "            pass\n",
    "        else:\n",
    "            if message == 'call_per_minute_limit_reached':\n",
    "                print('calls per minute limit reached')\n",
    "                print('waiting 10 seconds then trying again')\n",
    "                time.sleep(10)\n",
    "                continue\n",
    "            else:\n",
    "                print(message)\n",
    "    \n",
    "\n",
    "for city in city_names:\n",
    "    params = {**base, 'country': 'USA', 'state': 'California', 'city': city}\n",
    "    response = fetch_response(city_data_url, params=params)\n",
    "    city_data.append(response.json()['data'])\n",
    "    time.sleep(5)\n",
    "print(len(city_data))\n",
    "\n",
    "\n"
   ]
  },
  {
   "cell_type": "code",
   "execution_count": 54,
   "metadata": {},
   "outputs": [
    {
     "data": {
      "text/plain": [
       "b'{\"status\":\"success\",\"data\":{\"city\":\"Hornbrook\",\"state\":\"California\",\"country\":\"USA\",\"location\":{\"type\":\"Point\",\"coordinates\":[-122.568777,41.903594]},\"current\":{\"weather\":{\"ts\":\"2018-11-24T08:00:00.000Z\",\"hu\":92,\"ic\":\"04n\",\"pr\":1014,\"tp\":7,\"wd\":70,\"ws\":1.5},\"pollution\":{\"ts\":\"2018-11-24T08:00:00.000Z\",\"aqius\":20,\"mainus\":\"p2\",\"aqicn\":7,\"maincn\":\"p2\"}}}}'"
      ]
     },
     "execution_count": 54,
     "metadata": {},
     "output_type": "execute_result"
    }
   ],
   "source": [
    "response.content"
   ]
  },
  {
   "cell_type": "code",
   "execution_count": 75,
   "metadata": {},
   "outputs": [
    {
     "name": "stdout",
     "output_type": "stream",
     "text": [
      "37\n",
      "26\n",
      "22\n",
      "26\n",
      "20\n",
      "21\n",
      "25\n",
      "26\n",
      "28\n",
      "29\n",
      "1\n",
      "13\n",
      "25\n",
      "24\n"
     ]
    },
    {
     "data": {
      "text/html": [
       "<div style=\"width:100%;\"><div style=\"position:relative;width:100%;height:0;padding-bottom:60%;\"><iframe src=\"data:text/html;charset=utf-8;base64,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\" style=\"position:absolute;width:100%;height:100%;left:0;top:0;border:none !important;\" allowfullscreen webkitallowfullscreen mozallowfullscreen></iframe></div></div>"
      ],
      "text/plain": [
       "<folium.folium.Map at 0x113904630>"
      ]
     },
     "execution_count": 75,
     "metadata": {},
     "output_type": "execute_result"
    }
   ],
   "source": [
    "import folium, arrow\n",
    "def get_color(aqi):\n",
    "    if aqi < 51:\n",
    "        color = \"#00d200\"\n",
    "    elif aqi < 101:\n",
    "        color = \"#feff00\"\n",
    "    elif aqi < 151:\n",
    "        color = \"#fe7100\"\n",
    "    elif aqi < 201:\n",
    "        color = \"#fe0400\"\n",
    "    elif aqi < 301:\n",
    "        color = \"#a30055\"\n",
    "    elif aqi < 501:\n",
    "        color = \"#890027\"\n",
    "    else:\n",
    "        color = \"#000000\"\n",
    "    return color\n",
    "def get_radius(aqi):\n",
    "    print(aqi)\n",
    "    return max(aqi, 5000)\n",
    "\n",
    "m = folium.Map(location=[37.864767,-122.302741], zoom_start=8)\n",
    "\n",
    "for city in city_data:\n",
    "    try:\n",
    "        lon, lat = city['location']['coordinates']\n",
    "    except KeyError:\n",
    "        print(city)\n",
    "    aqi = city['current']['pollution']['aqius']\n",
    "    radius = get_radius(aqi)\n",
    "    color = get_color(aqi)\n",
    "    popup_text = (f'{city[\"city\"]}<br>'\n",
    "                  f'AQI: {aqi}<br>'\n",
    "                  f\"Last updated {arrow.get(city['current']['pollution']['ts']).humanize()}\")\n",
    "    folium.Circle(\n",
    "        location=[lat, lon],\n",
    "        radius=radius,\n",
    "        color=color,\n",
    "        fill=True,\n",
    "        popup=popup_text\n",
    "    ).add_to(m)\n",
    "\n",
    "m\n",
    "    "
   ]
  },
  {
   "cell_type": "code",
   "execution_count": 38,
   "metadata": {},
   "outputs": [
    {
     "data": {
      "text/html": [
       "<div style=\"width:100%;\"><div style=\"position:relative;width:100%;height:0;padding-bottom:60%;\"><iframe src=\"data:text/html;charset=utf-8;base64,PCFET0NUWVBFIGh0bWw+CjxoZWFkPiAgICAKICAgIDxtZXRhIGh0dHAtZXF1aXY9ImNvbnRlbnQtdHlwZSIgY29udGVudD0idGV4dC9odG1sOyBjaGFyc2V0PVVURi04IiAvPgogICAgPHNjcmlwdD5MX1BSRUZFUl9DQU5WQVM9ZmFsc2U7IExfTk9fVE9VQ0g9ZmFsc2U7IExfRElTQUJMRV8zRD1mYWxzZTs8L3NjcmlwdD4KICAgIDxzY3JpcHQgc3JjPSJodHRwczovL2Nkbi5qc2RlbGl2ci5uZXQvbnBtL2xlYWZsZXRAMS4yLjAvZGlzdC9sZWFmbGV0LmpzIj48L3NjcmlwdD4KICAgIDxzY3JpcHQgc3JjPSJodHRwczovL2FqYXguZ29vZ2xlYXBpcy5jb20vYWpheC9saWJzL2pxdWVyeS8xLjExLjEvanF1ZXJ5Lm1pbi5qcyI+PC9zY3JpcHQ+CiAgICA8c2NyaXB0IHNyYz0iaHR0cHM6Ly9tYXhjZG4uYm9vdHN0cmFwY2RuLmNvbS9ib290c3RyYXAvMy4yLjAvanMvYm9vdHN0cmFwLm1pbi5qcyI+PC9zY3JpcHQ+CiAgICA8c2NyaXB0IHNyYz0iaHR0cHM6Ly9jZG5qcy5jbG91ZGZsYXJlLmNvbS9hamF4L2xpYnMvTGVhZmxldC5hd2Vzb21lLW1hcmtlcnMvMi4wLjIvbGVhZmxldC5hd2Vzb21lLW1hcmtlcnMuanMiPjwvc2NyaXB0PgogICAgPGxpbmsgcmVsPSJzdHlsZXNoZWV0IiBocmVmPSJodHRwczovL2Nkbi5qc2RlbGl2ci5uZXQvbnBtL2xlYWZsZXRAMS4yLjAvZGlzdC9sZWFmbGV0LmNzcyIvPgogICAgPGxpbmsgcmVsPSJzdHlsZXNoZWV0IiBocmVmPSJodHRwczovL21heGNkbi5ib290c3RyYXBjZG4uY29tL2Jvb3RzdHJhcC8zLjIuMC9jc3MvYm9vdHN0cmFwLm1pbi5jc3MiLz4KICAgIDxsaW5rIHJlbD0ic3R5bGVzaGVldCIgaHJlZj0iaHR0cHM6Ly9tYXhjZG4uYm9vdHN0cmFwY2RuLmNvbS9ib290c3RyYXAvMy4yLjAvY3NzL2Jvb3RzdHJhcC10aGVtZS5taW4uY3NzIi8+CiAgICA8bGluayByZWw9InN0eWxlc2hlZXQiIGhyZWY9Imh0dHBzOi8vbWF4Y2RuLmJvb3RzdHJhcGNkbi5jb20vZm9udC1hd2Vzb21lLzQuNi4zL2Nzcy9mb250LWF3ZXNvbWUubWluLmNzcyIvPgogICAgPGxpbmsgcmVsPSJzdHlsZXNoZWV0IiBocmVmPSJodHRwczovL2NkbmpzLmNsb3VkZmxhcmUuY29tL2FqYXgvbGlicy9MZWFmbGV0LmF3ZXNvbWUtbWFya2Vycy8yLjAuMi9sZWFmbGV0LmF3ZXNvbWUtbWFya2Vycy5jc3MiLz4KICAgIDxsaW5rIHJlbD0ic3R5bGVzaGVldCIgaHJlZj0iaHR0cHM6Ly9yYXdnaXQuY29tL3B5dGhvbi12aXN1YWxpemF0aW9uL2ZvbGl1bS9tYXN0ZXIvZm9saXVtL3RlbXBsYXRlcy9sZWFmbGV0LmF3ZXNvbWUucm90YXRlLmNzcyIvPgogICAgPHN0eWxlPmh0bWwsIGJvZHkge3dpZHRoOiAxMDAlO2hlaWdodDogMTAwJTttYXJnaW46IDA7cGFkZGluZzogMDt9PC9zdHlsZT4KICAgIDxzdHlsZT4jbWFwIHtwb3NpdGlvbjphYnNvbHV0ZTt0b3A6MDtib3R0b206MDtyaWdodDowO2xlZnQ6MDt9PC9zdHlsZT4KICAgIAogICAgPHN0eWxlPiNtYXBfMzc3NWU1YjY1YWExNDkwNGI5OGEwMjBiMTMyNjU1YTcgewogICAgICAgIHBvc2l0aW9uOiByZWxhdGl2ZTsKICAgICAgICB3aWR0aDogMTAwLjAlOwogICAgICAgIGhlaWdodDogMTAwLjAlOwogICAgICAgIGxlZnQ6IDAuMCU7CiAgICAgICAgdG9wOiAwLjAlOwogICAgICAgIH0KICAgIDwvc3R5bGU+CjwvaGVhZD4KPGJvZHk+ICAgIAogICAgCiAgICA8ZGl2IGNsYXNzPSJmb2xpdW0tbWFwIiBpZD0ibWFwXzM3NzVlNWI2NWFhMTQ5MDRiOThhMDIwYjEzMjY1NWE3IiA+PC9kaXY+CjwvYm9keT4KPHNjcmlwdD4gICAgCiAgICAKICAgIAogICAgICAgIHZhciBib3VuZHMgPSBudWxsOwogICAgCgogICAgdmFyIG1hcF8zNzc1ZTViNjVhYTE0OTA0Yjk4YTAyMGIxMzI2NTVhNyA9IEwubWFwKAogICAgICAgICdtYXBfMzc3NWU1YjY1YWExNDkwNGI5OGEwMjBiMTMyNjU1YTcnLCB7CiAgICAgICAgY2VudGVyOiBbMzcuODY0NzY3LCAtMTIyLjMwMjc0MV0sCiAgICAgICAgem9vbTogOSwKICAgICAgICBtYXhCb3VuZHM6IGJvdW5kcywKICAgICAgICBsYXllcnM6IFtdLAogICAgICAgIHdvcmxkQ29weUp1bXA6IGZhbHNlLAogICAgICAgIGNyczogTC5DUlMuRVBTRzM4NTcsCiAgICAgICAgem9vbUNvbnRyb2w6IHRydWUsCiAgICAgICAgfSk7CgogICAgCiAgICAKICAgIHZhciB0aWxlX2xheWVyX2IxMDJkZWZiNDdjZjRkNTg4YzI5YjQ4ZmYwYzk5NDJlID0gTC50aWxlTGF5ZXIoCiAgICAgICAgJ2h0dHBzOi8ve3N9LnRpbGUub3BlbnN0cmVldG1hcC5vcmcve3p9L3t4fS97eX0ucG5nJywKICAgICAgICB7CiAgICAgICAgImF0dHJpYnV0aW9uIjogbnVsbCwKICAgICAgICAiZGV0ZWN0UmV0aW5hIjogZmFsc2UsCiAgICAgICAgIm1heE5hdGl2ZVpvb20iOiAxOCwKICAgICAgICAibWF4Wm9vbSI6IDE4LAogICAgICAgICJtaW5ab29tIjogMCwKICAgICAgICAibm9XcmFwIjogZmFsc2UsCiAgICAgICAgInN1YmRvbWFpbnMiOiAiYWJjIgp9KS5hZGRUbyhtYXBfMzc3NWU1YjY1YWExNDkwNGI5OGEwMjBiMTMyNjU1YTcpOwogICAgCgogICAgICAgICAgICB2YXIgY2lyY2xlX2Q2NjUxOWE3M2VlNzRlZjZhOGE4NDg1YmZkY2M1NjdlID0gTC5jaXJjbGUoCiAgICAgICAgICAgICAgICBbMzcuODY0NzY3LCAtMTIyLjMwMjc0MV0sCiAgICAgICAgICAgICAgICB7CiAgImJ1YmJsaW5nTW91c2VFdmVudHMiOiB0cnVlLAogICJjb2xvciI6ICIjMEE4QTlGIiwKICAiZGFzaEFycmF5IjogbnVsbCwKICAiZGFzaE9mZnNldCI6IG51bGwsCiAgImZpbGwiOiB0cnVlLAogICJmaWxsQ29sb3IiOiAiIzBBOEE5RiIsCiAgImZpbGxPcGFjaXR5IjogMC4yLAogICJmaWxsUnVsZSI6ICJldmVub2RkIiwKICAibGluZUNhcCI6ICJyb3VuZCIsCiAgImxpbmVKb2luIjogInJvdW5kIiwKICAib3BhY2l0eSI6IDEuMCwKICAicmFkaXVzIjogNTAwMCwKICAic3Ryb2tlIjogdHJ1ZSwKICAid2VpZ2h0IjogMwp9CiAgICAgICAgICAgICAgICApCiAgICAgICAgICAgICAgICAuYWRkVG8obWFwXzM3NzVlNWI2NWFhMTQ5MDRiOThhMDIwYjEzMjY1NWE3KTsKICAgICAgICAgICAgCjwvc2NyaXB0Pg==\" style=\"position:absolute;width:100%;height:100%;left:0;top:0;border:none !important;\" allowfullscreen webkitallowfullscreen mozallowfullscreen></iframe></div></div>"
      ],
      "text/plain": [
       "<folium.folium.Map at 0x113824198>"
      ]
     },
     "execution_count": 38,
     "metadata": {},
     "output_type": "execute_result"
    }
   ],
   "source": [
    "import folium\n",
    "\n",
    "radius = 5000\n",
    "color = \"#0A8A9F\"\n",
    "\n",
    "m = folium.Map(location=[37.864767,-122.302741], zoom_start=9)\n",
    "folium.Circle(\n",
    "    location=[37.864767,-122.302741],\n",
    "    radius=radius,\n",
    "    color=color,\n",
    "    fill=True\n",
    ").add_to(m)\n",
    "\n",
    "m\n",
    "\n"
   ]
  },
  {
   "cell_type": "code",
   "execution_count": 40,
   "metadata": {},
   "outputs": [
    {
     "name": "stdout",
     "output_type": "stream",
     "text": [
      "{'a': 1, 'b': 2, 'c': 3}\n"
     ]
    }
   ],
   "source": [
    "foo = {**{'a':1, 'b':2}, **{'c':3}}\n",
    "print(foo)"
   ]
  },
  {
   "cell_type": "code",
   "execution_count": null,
   "metadata": {},
   "outputs": [],
   "source": []
  }
 ],
 "metadata": {
  "kernelspec": {
   "display_name": "Python 3",
   "language": "python",
   "name": "python3"
  },
  "language_info": {
   "codemirror_mode": {
    "name": "ipython",
    "version": 3
   },
   "file_extension": ".py",
   "mimetype": "text/x-python",
   "name": "python",
   "nbconvert_exporter": "python",
   "pygments_lexer": "ipython3",
   "version": "3.7.1"
  }
 },
 "nbformat": 4,
 "nbformat_minor": 2
}
