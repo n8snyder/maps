{
 "cells": [
  {
   "cell_type": "code",
   "execution_count": 3,
   "metadata": {},
   "outputs": [
    {
     "name": "stdout",
     "output_type": "stream",
     "text": [
      "['Acalanes Ridge', 'Acton', 'Agoura Hills', 'Alameda', 'Alamo', 'Albany', 'Alhambra', 'Allendale', 'Alondra Park', 'Alpine', 'Altadena', 'Alum Rock', 'Anaheim', 'Anderson', 'Angels Camp', 'Angwin', 'Antelope', 'Antioch', 'Apple Valley', 'Aptos', 'Arnold', 'Arroyo Grande', 'Ashland', 'Atascadero', 'Atherton', 'Auburn', 'Avalon', 'Avila Beach', 'Azusa', 'Bakersfield', 'Baldwin Park', 'Banning', 'Barstow', 'Bell Gardens', 'Bella Vista', 'Belmont', 'Belvedere', 'Ben Lomond', 'Benicia', 'Berkeley', 'Bermuda Dunes', 'Beverly Hills', 'Big Bear City', 'Big Bear Lake', 'Big Pine', 'Biggs', 'Bill Stanley', 'Bishop', 'Black Point-Green Point', 'Blackhawk', 'Blythe', 'Bodega Bay', 'Bodfish', 'Bonny Doon', 'Boonville', 'Borrego Springs', 'Boulder Creek', 'Boyes Hot Springs', 'Boyle Heights', 'Brawley', 'Brentwood', 'Bridgeport', 'Brisbane', 'Broadmoor', 'Buckhorn', 'Buena Vista', 'Burbank', 'Burlingame', 'Burney', 'Butte', 'Calexico', 'California City', 'Calimesa', 'Calipatria', 'Calistoga', 'Camarillo', 'Cambria', 'Cambrian Park', 'Cameron Park', 'Camino', 'Campbell', 'Carmel Valley', 'Carmel-by-the-Sea', 'Casa Conejo', 'Castro Valley', 'Cathedral City', 'Cayucos', 'Cedar Ridge', 'Central Valley (historical)', 'Challenge-Brownsville', 'Chatsworth', 'Cherryland', 'Chico', 'Chinatown', 'Chula Vista', 'Claremont', 'Clayton', 'Clearlake', 'Clearlake Oaks', 'Cloverdale', 'Clovis', 'Coarsegold', 'Cobb', 'Colfax', 'Colton', 'Columbia', 'Colusa', 'Commerce', 'Compton', 'Concord', 'Cool', 'Corning', 'Coronado', 'Corte Madera', 'Cotati', 'Coto De Caza', 'Cottonwood', 'Country Club', 'Covelo', 'Crestline', 'Crockett', 'Cudahy', 'Culver City', 'Cupertino', 'Daly City', 'Danville', 'Davenport', 'Davis', 'Day Valley', 'Deer Park', 'Del Aire', 'Del Mar', 'Del Monte Forest', 'Del Rey', 'Del Rey Oaks', 'Desert Hot Springs', 'Desert View Highlands', 'Diablo', 'Diamond Bar', 'Diamond Springs', 'Dirty Socks', 'Dixon', 'Dixon Lane-Meadow Creek', 'Downey', 'Dublin', 'Dunsmuir', 'Durham', 'East Foothills', 'East Los Angeles', 'East Oakdale', 'East Palo Alto', 'East Pasadena', 'East Rancho Dominguez', 'East Richmond Heights', 'East San Gabriel', 'East Sonora', 'Easton', 'Eastvale', 'Echo Park', 'El Cajon', 'El Centro', 'El Cerrito', 'El Cerrito Corona', 'El Dorado Hills', 'El Granada', 'El Monte', 'El Rio', 'El Segundo', 'El Sobrante', 'Elk Grove', 'Emerald Lake Hills', 'Emeryville', 'Encinitas', 'Escalon', 'Esparto', 'Eureka', 'Fair Oaks', 'Fairfax', 'Fairfield', 'Fairview', 'Felton', 'Fetters Hot Springs-Agua Caliente', 'Fillmore', 'Florence-Graham', 'Florin', 'Folsom', 'Fontana', 'Forest Meadows', 'Foresthill', 'Forestville', 'Fort Bragg', 'Fort Irwin', 'Fort Jones', 'Foster City', 'Fremont', 'Fresno', 'Fruitridge Pocket', 'Fullerton', 'Gardena', 'Georgetown', 'Gilroy', 'Glendora', 'Goleta', 'Granite Bay', 'Grass Valley', 'Graton', 'Greenacres', 'Gridley', 'Grover Beach', 'Guerneville', 'Hacienda Heights', 'Half Moon Bay', 'Hamilton City', 'Happy Camp', 'Hayward', 'Healdsburg', 'Hercules', 'Hermosa Beach', 'Hesperia', 'Hidden Valley Lake', 'Highgrove', 'Highland', 'Highlands-Baywood Park', 'Hillsborough', 'Hollister', 'Hollywood', 'Huntington Beach', 'Huntington Park', 'Huron', 'Hydesville', 'Imperial', 'Indio', 'Inverness', 'Inyo', 'Irvine', 'Jackson', 'Jamestown', 'Johnstonville', 'Joshua Tree', 'Keeler', 'Kelseyville', 'Kelso', 'Kensington', 'Kenwood', 'Kern', 'Kernville', 'King City', 'Knightsen', 'Koreatown', 'La Canada Flintridge', 'La Crescenta-Montrose', 'La Grange', 'La Habra', 'La Jolla Shores', 'La Mirada', 'La Quinta', 'La Riviera', 'La Verne', 'Ladera', 'Ladera Heights', 'Ladera Ranch', 'Lafayette', 'Laguna', 'Laguna Woods', 'Lagunitas-Forest Knolls', 'Lake Arrowhead', 'Lake Elsinore', 'Lake Nacimiento', 'Lake San Marcos', 'Lake of the Pines', 'Lakehead-Lakeshore', 'Lakeport', 'Lakeview', 'Lakewood', 'Lancaster', 'Larkfield-Wikiup', 'Las Flores', 'Lawndale', 'Laytonville', 'Lebec', 'Lee Vining', 'Lemoore', 'Leona Valley', 'Lewiston', 'Lexington Hills', 'Lincoln', 'Livermore', 'Lomita', 'Lompico', 'Lompoc', 'Lone Pine', 'Long Beach', 'Loomis', 'Los Alamitos', 'Los Altos', 'Los Angeles', 'Los Banos', 'Los Gatos', 'Los Osos', 'Los Serranos', 'Lower Lake', 'Loyola', 'Lucas Valley-Marinwood', 'Lucerne', 'Lucerne Valley', 'Macdoel', 'Madera', 'Magalia', 'Malibu', 'Mammoth Lakes', 'Manhattan Beach', 'March Air Force Base', 'Marin City', 'Marina', 'Marina del Rey', 'Mariposa', 'Martinez', 'Matheny', 'Maywood', 'McCloud', 'McKinleyville', 'Mead Valley', 'Meadow Vista', 'Mecca', 'Mendota', 'Menlo Park', 'Merced', 'Middletown', 'Midpines', 'Mill Valley', 'Millbrae', 'Milpitas', 'Mira Mesa', 'Miramonte', 'Mission Canyon', 'Mission District', 'Mission Viejo', 'Modesto', 'Mojave', 'Montague', 'Montara', 'Monte Rio', 'Monte Sereno', 'Montecito', 'Monterey Park', 'Monument Hills', 'Moraga', 'Morgan Hill', 'Morro Bay', 'Mountain House', 'Mountain View', 'Murrieta Hot Springs', 'Myrtletown', 'Napa', 'Needles', 'Nevada', 'Newark', 'Newhall', 'Newport Beach', 'Nipomo', 'Noe Valley', 'North Auburn', 'North Edwards', 'North Fair Oaks', 'North Hollywood', 'North Richmond', 'Novato', 'Oak View', 'Oakhurst', 'Oakland', 'Occidental', 'Oceanside', 'Oildale', 'Ojai', 'Olancha', 'Old Fig Garden', 'Ontario', 'Opal Cliffs', 'Orange', 'Orinda', 'Orland', 'Orleans', 'Oroville', 'Oroville East', 'Oxnard', 'Pacifica', 'Palermo', 'Palm Springs', 'Palmdale', 'Palo Alto', 'Palo Cedro', 'Palos Verdes Estates', 'Paradise', 'Paramount', 'Parkway', 'Parlier', 'Pasadena', 'Paso Robles', 'Patterson', 'Perris', 'Petaluma', 'Phelan', 'Pico Rivera', 'Piedmont', 'Pine Mountain Club', 'Pinon Hills', 'Pioneer', 'Placentia', 'Placerville', 'Pleasanton', 'Plumas', 'Plumas Lake', 'Pollock Pines', 'Pomona', 'Porterville', 'Portola', 'Portola Valley', 'Potter Valley', 'Poway', 'Prather', 'Prunedale', 'Quartz Hill', 'Quincy', 'Rancho Calaveras', 'Rancho Cordova', 'Rancho Tehama Reserve', 'Red Bluff', 'Redding', 'Redlands', 'Redondo Beach', 'Redway', 'Redwood City', 'Redwood Shores', 'Redwood Valley', 'Reedley', 'Reseda', 'Rio Del Mar', 'Rio Dell', 'Rio Linda', 'Rio Vista', 'Riverside', 'Rocklin', 'Rodeo', 'Rohnert Park', 'Rolling Hills Estates', 'Rollingwood', 'Rosedale', 'Roseland', 'Rosemead', 'Roseville', 'Ross', 'Rossmoor', 'Sacramento', 'Saint Helena', 'Salida', 'Salinas', 'San Andreas', 'San Anselmo', 'San Antonio Heights', 'San Bernardino', 'San Bruno', 'San Carlos', 'San Diego', 'San Francisco', 'San Gabriel', 'San Jacinto', 'San Joaquin Hills', 'San Jose', 'San Juan Capistrano', 'San Leandro', 'San Lorenzo', 'San Luis Obispo', 'San Marino', 'San Martin', 'San Mateo', 'San Pablo', 'San Pedro', 'San Rafael', 'San Ramon', 'Sanger', 'Santa Barbara', 'Santa Clara', 'Santa Clarita', 'Santa Cruz', 'Santa Margarita', 'Santa Maria', 'Santa Monica', 'Santa Rosa', 'Santa Venetia', 'Santa Ynez', 'Saranap', 'Saratoga', 'Sausalito', 'Scotts Valley', 'Sea Ranch', 'Seal Beach', 'Sebastopol', 'Sedco Hills', 'Seven Trees', 'Shafter', 'Shandon', 'Shasta', 'Shasta Lake', 'Sherman Oaks', 'Shingle Springs', 'Shingletown', 'Sierra Madre', 'Signal Hill', 'Silver Lake', 'Silver Lakes', 'Simi Valley', 'Sleepy Hollow', 'Soda Bay', 'Solana Beach', 'Solano', 'Solvang', 'Sonoma', 'Soquel', 'South El Monte', 'South Gate', 'South Lake Tahoe', 'South Pasadena', 'South San Gabriel', 'South San Jose Hills', 'Spring Valley', 'Spring Valley Lake', 'Springville', 'Stanford', 'Stanislaus', 'Stevenson Ranch', 'Stockton', 'Strawberry', 'Studio City', 'Suisun', 'Summerland', 'Sun Village', 'Sunland', 'Sunnyside', 'Sunnyslope', 'Sunnyvale', 'Sutter Creek', 'Tahoe City', 'Tahoma', 'Tamalpais Valley', 'Tamalpais-Homestead Valley', 'Tarpey Village', 'Tehachapi', 'Temecula', 'Thermalito', 'Thousand Oaks', 'Three Rivers', 'Tiburon', 'Tierra Buena', 'Topanga', 'Toro Canyon', 'Torrance', 'Trabuco Canyon', 'Tracy', 'Tranquillity', 'Trona', 'Truckee', 'Tulare', 'Tulelake', 'Tuolumne City', 'Turlock', 'Twentynine Palms', 'Twin Lakes', 'Ukiah', 'Union City', 'Universal City', 'Upland', 'Vacaville', 'Vallejo', 'Van Nuys', 'Venice', 'Ventura', 'Victorville', 'View Park-Windsor Hills', 'Villa Park', 'Vine Hill', 'Vineyard', 'Visalia', 'Vista', 'Waldon', 'Walnut Creek', 'Walnut Park', 'Wasco', 'Weaverville', 'Weed', 'Weldon', 'West Carson', 'West Hollywood', 'West Menlo Park', 'West Park', 'West Sacramento', 'Westhaven-Moonstone', 'Westmorland', 'Westwood', 'Wheatland', 'Williams', 'Willits', 'Willowbrook', 'Willows', 'Winchester', 'Windsor', 'Winters', 'Woodacre', 'Woodbridge', 'Woodcrest', 'Woodland', 'Woodland Hills', 'Woodside', 'Yosemite Lakes', 'Yosemite Np Turtleback Dome', 'Yosemite Valley', 'Yreka', 'Yuba City', 'Yucca Valley']\n"
     ]
    },
    {
     "name": "stdout",
     "output_type": "stream",
     "text": [
      "<Response [200]>\n",
      "<Response [200]>\n",
      "<Response [200]>\n",
      "<Response [200]>\n",
      "<Response [200]>\n",
      "<Response [200]>\n",
      "<Response [200]>\n",
      "<Response [200]>\n",
      "<Response [200]>\n",
      "<Response [200]>\n",
      "<Response [200]>\n",
      "<Response [200]>\n",
      "<Response [200]>\n",
      "<Response [200]>\n",
      "<Response [200]>\n",
      "15\n"
     ]
    }
   ],
   "source": [
    "import requests, json, time, os\n",
    "\n",
    "key = os.environ['AIR_KEY']\n",
    "base = {'key': key}\n",
    "\n",
    "city_names_url = \"http://api.airvisual.com/v2/cities\"\n",
    "params = {**base, 'country': 'USA', 'state': 'California'}\n",
    "city_names_response = requests.get(city_names_url, params=params)\n",
    "city_names = [data['city'] for data in city_names_response.json()['data']]\n",
    "print(city_names)\n",
    "city_names = ['Alameda', 'Berkeley', 'Concord', 'Gilroy', 'Livermore', 'Sacramento', \n",
    "              'Oakland', 'Napa', 'Santa Cruz', 'San Francisco', 'Richmond', 'San Jose', \n",
    "              'Redwood City', 'Vallejo', 'Stockton']\n",
    "city_data_url = \"http://api.airvisual.com/v2/city\"\n",
    "city_data = []\n",
    "\n",
    "def fetch_response(url, params):\n",
    "    while True:\n",
    "        response = requests.get(url, params=params)\n",
    "        try:\n",
    "            message = response.json()['data']['message']\n",
    "        except KeyError:\n",
    "            print(response)\n",
    "            return response\n",
    "        except JSONDecodeError:\n",
    "            print('json decode error')\n",
    "            print(response)\n",
    "            print(response.content)\n",
    "            pass\n",
    "        else:\n",
    "            if message == 'call_per_minute_limit_reached':\n",
    "                print('calls per minute limit reached')\n",
    "                print('waiting 10 seconds then trying again')\n",
    "                time.sleep(10)\n",
    "                continue\n",
    "            else:\n",
    "                print(message)\n",
    "    \n",
    "\n",
    "for city in city_names:\n",
    "    params = {**base, 'country': 'USA', 'state': 'California', 'city': city}\n",
    "    response = fetch_response(city_data_url, params=params)\n",
    "    city_data.append(response.json()['data'])\n",
    "    time.sleep(5)\n",
    "print(len(city_data))\n",
    "\n",
    "\n"
   ]
  },
  {
   "cell_type": "code",
   "execution_count": 54,
   "metadata": {},
   "outputs": [
    {
     "data": {
      "text/plain": [
       "b'{\"status\":\"success\",\"data\":{\"city\":\"Hornbrook\",\"state\":\"California\",\"country\":\"USA\",\"location\":{\"type\":\"Point\",\"coordinates\":[-122.568777,41.903594]},\"current\":{\"weather\":{\"ts\":\"2018-11-24T08:00:00.000Z\",\"hu\":92,\"ic\":\"04n\",\"pr\":1014,\"tp\":7,\"wd\":70,\"ws\":1.5},\"pollution\":{\"ts\":\"2018-11-24T08:00:00.000Z\",\"aqius\":20,\"mainus\":\"p2\",\"aqicn\":7,\"maincn\":\"p2\"}}}}'"
      ]
     },
     "execution_count": 54,
     "metadata": {},
     "output_type": "execute_result"
    }
   ],
   "source": [
    "response.content"
   ]
  },
  {
   "cell_type": "code",
   "execution_count": 4,
   "metadata": {},
   "outputs": [
    {
     "name": "stdout",
     "output_type": "stream",
     "text": [
      "45\n",
      "51\n",
      "33\n",
      "33\n",
      "31\n",
      "35\n",
      "30\n",
      "30\n",
      "30\n",
      "45\n",
      "3\n",
      "29\n",
      "33\n",
      "32\n",
      "31\n"
     ]
    },
    {
     "data": {
      "text/html": [
       "<div style=\"width:100%;\"><div style=\"position:relative;width:100%;height:0;padding-bottom:60%;\"><iframe src=\"data:text/html;charset=utf-8;base64,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\" style=\"position:absolute;width:100%;height:100%;left:0;top:0;border:none !important;\" allowfullscreen webkitallowfullscreen mozallowfullscreen></iframe></div></div>"
      ],
      "text/plain": [
       "<folium.folium.Map at 0x10b330c50>"
      ]
     },
     "execution_count": 4,
     "metadata": {},
     "output_type": "execute_result"
    }
   ],
   "source": [
    "import folium, arrow\n",
    "def get_color(aqi):\n",
    "    if aqi < 51:\n",
    "        color = \"#00d200\"\n",
    "    elif aqi < 101:\n",
    "        color = \"#feff00\"\n",
    "    elif aqi < 151:\n",
    "        color = \"#fe7100\"\n",
    "    elif aqi < 201:\n",
    "        color = \"#fe0400\"\n",
    "    elif aqi < 301:\n",
    "        color = \"#a30055\"\n",
    "    elif aqi < 501:\n",
    "        color = \"#890027\"\n",
    "    else:\n",
    "        color = \"#000000\"\n",
    "    return color\n",
    "def get_radius(aqi):\n",
    "    print(aqi)\n",
    "    return max(aqi, 5000)\n",
    "\n",
    "m = folium.Map(location=[37.864767,-122.302741], zoom_start=8)\n",
    "\n",
    "for city in city_data:\n",
    "    try:\n",
    "        lon, lat = city['location']['coordinates']\n",
    "    except KeyError:\n",
    "        print(city)\n",
    "    aqi = city['current']['pollution']['aqius']\n",
    "    radius = get_radius(aqi)\n",
    "    color = get_color(aqi)\n",
    "    popup_text = (f'{city[\"city\"]}<br>'\n",
    "                  f'AQI: {aqi}<br>'\n",
    "                  f\"Last updated {arrow.get(city['current']['pollution']['ts']).humanize()}\")\n",
    "    folium.Circle(\n",
    "        location=[lat, lon],\n",
    "        radius=radius,\n",
    "        color=color,\n",
    "        fill=True,\n",
    "        popup=popup_text\n",
    "    ).add_to(m)\n",
    "\n",
    "m\n",
    "    "
   ]
  },
  {
   "cell_type": "code",
   "execution_count": 8,
   "metadata": {},
   "outputs": [
    {
     "data": {
      "text/html": [
       "<div style=\"width:100%;\"><div style=\"position:relative;width:100%;height:0;padding-bottom:60%;\"><iframe src=\"data:text/html;charset=utf-8;base64,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\" style=\"position:absolute;width:100%;height:100%;left:0;top:0;border:none !important;\" allowfullscreen webkitallowfullscreen mozallowfullscreen></iframe></div></div>"
      ],
      "text/plain": [
       "<folium.folium.Map at 0x11c87e518>"
      ]
     },
     "execution_count": 8,
     "metadata": {},
     "output_type": "execute_result"
    }
   ],
   "source": [
    "import folium\n",
    "\n",
    "radius = 5000\n",
    "color = \"#0A8A9F\"\n",
    "\n",
    "m = folium.Map(location=[37.864767,-122.302741], zoom_start=8)\n",
    "folium.Circle(\n",
    "    location=[37.864767,-122.302741],\n",
    "    radius=radius,\n",
    "    color=color,\n",
    "    fill=True\n",
    ").add_to(m)\n",
    "\n",
    "m\n",
    "\n"
   ]
  },
  {
   "cell_type": "code",
   "execution_count": 40,
   "metadata": {},
   "outputs": [
    {
     "name": "stdout",
     "output_type": "stream",
     "text": [
      "{'a': 1, 'b': 2, 'c': 3}\n"
     ]
    }
   ],
   "source": [
    "foo = {**{'a':1, 'b':2}, **{'c':3}}\n",
    "print(foo)"
   ]
  },
  {
   "cell_type": "code",
   "execution_count": null,
   "metadata": {},
   "outputs": [],
   "source": []
  }
 ],
 "metadata": {
  "kernelspec": {
   "display_name": "Python 3",
   "language": "python",
   "name": "python3"
  },
  "language_info": {
   "codemirror_mode": {
    "name": "ipython",
    "version": 3
   },
   "file_extension": ".py",
   "mimetype": "text/x-python",
   "name": "python",
   "nbconvert_exporter": "python",
   "pygments_lexer": "ipython3",
   "version": "3.7.2"
  }
 },
 "nbformat": 4,
 "nbformat_minor": 2
}
